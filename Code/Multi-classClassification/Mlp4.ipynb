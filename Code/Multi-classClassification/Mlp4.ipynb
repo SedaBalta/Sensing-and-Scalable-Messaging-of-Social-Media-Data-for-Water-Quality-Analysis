{
  "nbformat": 4,
  "nbformat_minor": 0,
  "metadata": {
    "colab": {
      "provenance": []
    },
    "kernelspec": {
      "name": "python3",
      "display_name": "Python 3"
    },
    "language_info": {
      "name": "python"
    }
  },
  "cells": [
    {
      "cell_type": "code",
      "execution_count": null,
      "metadata": {
        "id": "yefIWK5SR9sY"
      },
      "outputs": [],
      "source": [
        "import pandas as pd\n",
        "import numpy as np\n",
        "\n",
        "import tensorflow as tf\n",
        "\n",
        "import matplotlib.pyplot as plt\n",
        "\n",
        "from tensorflow.keras import regularizers\n",
        "from tensorflow.keras import layers\n",
        "from tensorflow.keras import losses\n",
        "from tensorflow.keras.callbacks import EarlyStopping\n",
        "\n",
        "from tensorflow.keras.metrics import AUC\n",
        "\n",
        "from sklearn.feature_extraction.text import TfidfVectorizer\n",
        "from sklearn.model_selection import train_test_split\n",
        "from sklearn.preprocessing import LabelEncoder\n",
        "from sklearn.metrics import accuracy_score, f1_score, precision_score, recall_score, classification_report, confusion_matrix, matthews_corrcoef, roc_curve, auc, roc_auc_score\n",
        "\n",
        "from tensorflow.keras.optimizers import Adam\n",
        "from tensorflow.keras.initializers import Constant\n",
        "from tensorflow.keras.preprocessing.text import Tokenizer\n",
        "from tensorflow.keras.preprocessing.sequence import pad_sequences"
      ]
    },
    {
      "cell_type": "code",
      "source": [
        "from google.colab import drive\n",
        "drive.mount('/content/drive')"
      ],
      "metadata": {
        "colab": {
          "base_uri": "https://localhost:8080/"
        },
        "id": "J-gjznvvSEVD",
        "outputId": "2078b26a-e381-4a5e-b35c-5a35bdbfeb4b"
      },
      "execution_count": null,
      "outputs": [
        {
          "output_type": "stream",
          "name": "stdout",
          "text": [
            "Mounted at /content/drive\n"
          ]
        }
      ]
    },
    {
      "cell_type": "code",
      "source": [
        "train_data = pd.read_csv('/content/drive/MyDrive/waterQuality/all4classes.csv')\n",
        "train_data.head()"
      ],
      "metadata": {
        "colab": {
          "base_uri": "https://localhost:8080/",
          "height": 206
        },
        "id": "ijR27iXVSdxA",
        "outputId": "f6228369-ef01-44b5-d60f-2abaded69646"
      },
      "execution_count": null,
      "outputs": [
        {
          "output_type": "execute_result",
          "data": {
            "text/plain": [
              "   Unnamed: 0  Unnamed: 0.1  Unnamed: 0.1.1  \\\n",
              "0           0             0               0   \n",
              "1           1             1               1   \n",
              "2           2             2               2   \n",
              "3           3             3               3   \n",
              "4           4             4               4   \n",
              "\n",
              "                                                body  Subjectivity  Polarity  \\\n",
              "0  predatory white pointers dingos saltwatercrocs...      0.075066  0.075066   \n",
              "1  this january simply note that are still having...      0.000000  0.000000   \n",
              "2  pronouns hehim height zodiac sign leo smoke he...      0.000000  0.000000   \n",
              "3  pronouns hehim height zodiac sign sagittarius ...     -0.075000 -0.075000   \n",
              "4  hoses are inchworm water lilies are powderblue...     -0.166667 -0.166667   \n",
              "\n",
              "   Analysis  cod  \n",
              "0  Positive    0  \n",
              "1   Neutral    0  \n",
              "2   Neutral    0  \n",
              "3  Negative    0  \n",
              "4  Negative    0  "
            ],
            "text/html": [
              "\n",
              "  <div id=\"df-b660ea6b-077a-470d-ad4e-13f86ea75f99\">\n",
              "    <div class=\"colab-df-container\">\n",
              "      <div>\n",
              "<style scoped>\n",
              "    .dataframe tbody tr th:only-of-type {\n",
              "        vertical-align: middle;\n",
              "    }\n",
              "\n",
              "    .dataframe tbody tr th {\n",
              "        vertical-align: top;\n",
              "    }\n",
              "\n",
              "    .dataframe thead th {\n",
              "        text-align: right;\n",
              "    }\n",
              "</style>\n",
              "<table border=\"1\" class=\"dataframe\">\n",
              "  <thead>\n",
              "    <tr style=\"text-align: right;\">\n",
              "      <th></th>\n",
              "      <th>Unnamed: 0</th>\n",
              "      <th>Unnamed: 0.1</th>\n",
              "      <th>Unnamed: 0.1.1</th>\n",
              "      <th>body</th>\n",
              "      <th>Subjectivity</th>\n",
              "      <th>Polarity</th>\n",
              "      <th>Analysis</th>\n",
              "      <th>cod</th>\n",
              "    </tr>\n",
              "  </thead>\n",
              "  <tbody>\n",
              "    <tr>\n",
              "      <th>0</th>\n",
              "      <td>0</td>\n",
              "      <td>0</td>\n",
              "      <td>0</td>\n",
              "      <td>predatory white pointers dingos saltwatercrocs...</td>\n",
              "      <td>0.075066</td>\n",
              "      <td>0.075066</td>\n",
              "      <td>Positive</td>\n",
              "      <td>0</td>\n",
              "    </tr>\n",
              "    <tr>\n",
              "      <th>1</th>\n",
              "      <td>1</td>\n",
              "      <td>1</td>\n",
              "      <td>1</td>\n",
              "      <td>this january simply note that are still having...</td>\n",
              "      <td>0.000000</td>\n",
              "      <td>0.000000</td>\n",
              "      <td>Neutral</td>\n",
              "      <td>0</td>\n",
              "    </tr>\n",
              "    <tr>\n",
              "      <th>2</th>\n",
              "      <td>2</td>\n",
              "      <td>2</td>\n",
              "      <td>2</td>\n",
              "      <td>pronouns hehim height zodiac sign leo smoke he...</td>\n",
              "      <td>0.000000</td>\n",
              "      <td>0.000000</td>\n",
              "      <td>Neutral</td>\n",
              "      <td>0</td>\n",
              "    </tr>\n",
              "    <tr>\n",
              "      <th>3</th>\n",
              "      <td>3</td>\n",
              "      <td>3</td>\n",
              "      <td>3</td>\n",
              "      <td>pronouns hehim height zodiac sign sagittarius ...</td>\n",
              "      <td>-0.075000</td>\n",
              "      <td>-0.075000</td>\n",
              "      <td>Negative</td>\n",
              "      <td>0</td>\n",
              "    </tr>\n",
              "    <tr>\n",
              "      <th>4</th>\n",
              "      <td>4</td>\n",
              "      <td>4</td>\n",
              "      <td>4</td>\n",
              "      <td>hoses are inchworm water lilies are powderblue...</td>\n",
              "      <td>-0.166667</td>\n",
              "      <td>-0.166667</td>\n",
              "      <td>Negative</td>\n",
              "      <td>0</td>\n",
              "    </tr>\n",
              "  </tbody>\n",
              "</table>\n",
              "</div>\n",
              "      <button class=\"colab-df-convert\" onclick=\"convertToInteractive('df-b660ea6b-077a-470d-ad4e-13f86ea75f99')\"\n",
              "              title=\"Convert this dataframe to an interactive table.\"\n",
              "              style=\"display:none;\">\n",
              "        \n",
              "  <svg xmlns=\"http://www.w3.org/2000/svg\" height=\"24px\"viewBox=\"0 0 24 24\"\n",
              "       width=\"24px\">\n",
              "    <path d=\"M0 0h24v24H0V0z\" fill=\"none\"/>\n",
              "    <path d=\"M18.56 5.44l.94 2.06.94-2.06 2.06-.94-2.06-.94-.94-2.06-.94 2.06-2.06.94zm-11 1L8.5 8.5l.94-2.06 2.06-.94-2.06-.94L8.5 2.5l-.94 2.06-2.06.94zm10 10l.94 2.06.94-2.06 2.06-.94-2.06-.94-.94-2.06-.94 2.06-2.06.94z\"/><path d=\"M17.41 7.96l-1.37-1.37c-.4-.4-.92-.59-1.43-.59-.52 0-1.04.2-1.43.59L10.3 9.45l-7.72 7.72c-.78.78-.78 2.05 0 2.83L4 21.41c.39.39.9.59 1.41.59.51 0 1.02-.2 1.41-.59l7.78-7.78 2.81-2.81c.8-.78.8-2.07 0-2.86zM5.41 20L4 18.59l7.72-7.72 1.47 1.35L5.41 20z\"/>\n",
              "  </svg>\n",
              "      </button>\n",
              "      \n",
              "  <style>\n",
              "    .colab-df-container {\n",
              "      display:flex;\n",
              "      flex-wrap:wrap;\n",
              "      gap: 12px;\n",
              "    }\n",
              "\n",
              "    .colab-df-convert {\n",
              "      background-color: #E8F0FE;\n",
              "      border: none;\n",
              "      border-radius: 50%;\n",
              "      cursor: pointer;\n",
              "      display: none;\n",
              "      fill: #1967D2;\n",
              "      height: 32px;\n",
              "      padding: 0 0 0 0;\n",
              "      width: 32px;\n",
              "    }\n",
              "\n",
              "    .colab-df-convert:hover {\n",
              "      background-color: #E2EBFA;\n",
              "      box-shadow: 0px 1px 2px rgba(60, 64, 67, 0.3), 0px 1px 3px 1px rgba(60, 64, 67, 0.15);\n",
              "      fill: #174EA6;\n",
              "    }\n",
              "\n",
              "    [theme=dark] .colab-df-convert {\n",
              "      background-color: #3B4455;\n",
              "      fill: #D2E3FC;\n",
              "    }\n",
              "\n",
              "    [theme=dark] .colab-df-convert:hover {\n",
              "      background-color: #434B5C;\n",
              "      box-shadow: 0px 1px 3px 1px rgba(0, 0, 0, 0.15);\n",
              "      filter: drop-shadow(0px 1px 2px rgba(0, 0, 0, 0.3));\n",
              "      fill: #FFFFFF;\n",
              "    }\n",
              "  </style>\n",
              "\n",
              "      <script>\n",
              "        const buttonEl =\n",
              "          document.querySelector('#df-b660ea6b-077a-470d-ad4e-13f86ea75f99 button.colab-df-convert');\n",
              "        buttonEl.style.display =\n",
              "          google.colab.kernel.accessAllowed ? 'block' : 'none';\n",
              "\n",
              "        async function convertToInteractive(key) {\n",
              "          const element = document.querySelector('#df-b660ea6b-077a-470d-ad4e-13f86ea75f99');\n",
              "          const dataTable =\n",
              "            await google.colab.kernel.invokeFunction('convertToInteractive',\n",
              "                                                     [key], {});\n",
              "          if (!dataTable) return;\n",
              "\n",
              "          const docLinkHtml = 'Like what you see? Visit the ' +\n",
              "            '<a target=\"_blank\" href=https://colab.research.google.com/notebooks/data_table.ipynb>data table notebook</a>'\n",
              "            + ' to learn more about interactive tables.';\n",
              "          element.innerHTML = '';\n",
              "          dataTable['output_type'] = 'display_data';\n",
              "          await google.colab.output.renderOutput(dataTable, element);\n",
              "          const docLink = document.createElement('div');\n",
              "          docLink.innerHTML = docLinkHtml;\n",
              "          element.appendChild(docLink);\n",
              "        }\n",
              "      </script>\n",
              "    </div>\n",
              "  </div>\n",
              "  "
            ]
          },
          "metadata": {},
          "execution_count": 37
        }
      ]
    },
    {
      "cell_type": "code",
      "source": [
        "# calculate word count of each sentence\n",
        "train_data['word_counter'] = train_data['body'].apply(lambda x:len(str(x).split())) "
      ],
      "metadata": {
        "id": "eDYuy0dkSjn9"
      },
      "execution_count": null,
      "outputs": []
    },
    {
      "cell_type": "code",
      "source": [
        "print('Info about training data:')\n",
        "print(train_data['cod'].value_counts())\n",
        "print('Total comments: ', len(train_data))\n",
        "\n",
        "# will be used in cnn\n",
        "max_train_sentence_length  = train_data['word_counter'].max()"
      ],
      "metadata": {
        "colab": {
          "base_uri": "https://localhost:8080/"
        },
        "id": "vnausK7mSoHb",
        "outputId": "9fb6982e-7e06-4621-f4fc-dc0478006a7b"
      },
      "execution_count": null,
      "outputs": [
        {
          "output_type": "stream",
          "name": "stdout",
          "text": [
            "Info about training data:\n",
            "2    5572\n",
            "0    5032\n",
            "1    4825\n",
            "3    4395\n",
            "Name: cod, dtype: int64\n",
            "Total comments:  19824\n"
          ]
        }
      ]
    },
    {
      "cell_type": "code",
      "source": [
        "# will be used for padding\n",
        "print('Train Max Sentence Length :'+str(max_train_sentence_length))"
      ],
      "metadata": {
        "colab": {
          "base_uri": "https://localhost:8080/"
        },
        "id": "h5iQF_LfStrv",
        "outputId": "f45b98f6-9f84-4a72-de4c-3843b0d36a10"
      },
      "execution_count": null,
      "outputs": [
        {
          "output_type": "stream",
          "name": "stdout",
          "text": [
            "Train Max Sentence Length :52\n"
          ]
        }
      ]
    },
    {
      "cell_type": "code",
      "source": [
        "\n",
        "num_words = 20000\n",
        "\n",
        "# convert texts to number format - for tensorflow.\n",
        "\n",
        "tokenizer = Tokenizer(num_words=num_words)\n",
        "tokenizer.fit_on_texts(train_data['body'].values.astype(str).tolist())"
      ],
      "metadata": {
        "id": "5Hjted0_SyT1"
      },
      "execution_count": null,
      "outputs": []
    },
    {
      "cell_type": "code",
      "source": [
        "# splitting train and test data\n",
        "X_train, X_test, y_train, y_test = train_test_split(train_data['body'],\\\n",
        "                                                      train_data['cod'],\\\n",
        "                                                      test_size=0.2,\\\n",
        "                                                      random_state=0)"
      ],
      "metadata": {
        "id": "qQv5O3v_S5MU"
      },
      "execution_count": null,
      "outputs": []
    },
    {
      "cell_type": "code",
      "source": [
        "x_train = np.array( tokenizer.texts_to_sequences(X_train.values.astype(str)) )\n",
        "x_test  = np.array( tokenizer.texts_to_sequences(X_test.values.astype(str)) )"
      ],
      "metadata": {
        "colab": {
          "base_uri": "https://localhost:8080/"
        },
        "id": "kc1qXigETB9k",
        "outputId": "a5a8bc43-4ebc-4ee6-f0ee-b6990b899d21"
      },
      "execution_count": null,
      "outputs": [
        {
          "output_type": "stream",
          "name": "stderr",
          "text": [
            "<ipython-input-43-9ee80a7500df>:1: VisibleDeprecationWarning: Creating an ndarray from ragged nested sequences (which is a list-or-tuple of lists-or-tuples-or ndarrays with different lengths or shapes) is deprecated. If you meant to do this, you must specify 'dtype=object' when creating the ndarray.\n",
            "  x_train = np.array( tokenizer.texts_to_sequences(X_train.values.astype(str)) )\n",
            "<ipython-input-43-9ee80a7500df>:2: VisibleDeprecationWarning: Creating an ndarray from ragged nested sequences (which is a list-or-tuple of lists-or-tuples-or ndarrays with different lengths or shapes) is deprecated. If you meant to do this, you must specify 'dtype=object' when creating the ndarray.\n",
            "  x_test  = np.array( tokenizer.texts_to_sequences(X_test.values.astype(str)) )\n"
          ]
        }
      ]
    },
    {
      "cell_type": "code",
      "source": [
        "x_train = pad_sequences(x_train, padding='post', maxlen=256)\n",
        "x_test = pad_sequences(x_test, padding='post', maxlen=256)"
      ],
      "metadata": {
        "id": "o0LPfO8JTElI"
      },
      "execution_count": null,
      "outputs": []
    },
    {
      "cell_type": "code",
      "source": [
        "le = LabelEncoder()\n",
        "\n",
        "train_labels = le.fit_transform(y_train)\n",
        "train_labels = np.asarray( tf.keras.utils.to_categorical(train_labels))\n",
        "\n",
        "test_labels = le.transform(y_test)\n",
        "test_labels = np.asarray(tf.keras.utils.to_categorical(test_labels))\n",
        "list(le.classes_)"
      ],
      "metadata": {
        "colab": {
          "base_uri": "https://localhost:8080/"
        },
        "id": "zLpYc-dvTGL-",
        "outputId": "2da650ba-84d4-4cd4-8a72-3be58989f644"
      },
      "execution_count": null,
      "outputs": [
        {
          "output_type": "execute_result",
          "data": {
            "text/plain": [
              "[0, 1, 2, 3]"
            ]
          },
          "metadata": {},
          "execution_count": 45
        }
      ]
    },
    {
      "cell_type": "code",
      "source": [
        "# looking for top 30k comments\n",
        "max_features = 20000\n",
        "\n",
        "#every index is represented by 64 dimensional vector\n",
        "embedding_dim =64\n",
        "\n",
        "#each input has 256 dimension\n",
        "sequence_length = 256\n",
        "\n",
        "model = tf.keras.Sequential()\n",
        "\n",
        "model.add(tf.keras.layers.Embedding(max_features, embedding_dim, input_length=sequence_length,\\\n",
        "                                   embeddings_regularizer = regularizers.l2(0.0005))) \n",
        "\n",
        "model.add(tf.keras.layers.Flatten())\n",
        "model.add(tf.keras.layers.Dense(64, activation='relu'))\n",
        "model.add(tf.keras.layers.Dense(64, activation='relu'))\n",
        "model.add(tf.keras.layers.Dense(128, activation='relu'))\n",
        "model.add(tf.keras.layers.Dense(4, activation='softmax'))\n",
        "model.compile(loss='categorical_crossentropy', optimizer='adam', metrics=['accuracy', AUC(name='auc')])"
      ],
      "metadata": {
        "id": "-SNvQSiITNNG"
      },
      "execution_count": null,
      "outputs": []
    },
    {
      "cell_type": "code",
      "source": [
        "# Training model\n",
        "\n",
        "callbacks = [EarlyStopping(monitor='val_loss', patience=3)]\n",
        "\n",
        "# Fit the model using the train and test datasets.\n",
        "history = model.fit(x_train,\n",
        "                    train_labels,\n",
        "                    epochs= 20,\n",
        "                    callbacks=callbacks,\n",
        "                    validation_data=(x_test, test_labels),\n",
        "                    verbose=1)"
      ],
      "metadata": {
        "colab": {
          "base_uri": "https://localhost:8080/"
        },
        "id": "EqHPY0uHTWgJ",
        "outputId": "277f5ef0-c4fb-4cec-c97c-e6b3b1367bf1"
      },
      "execution_count": null,
      "outputs": [
        {
          "output_type": "stream",
          "name": "stdout",
          "text": [
            "Epoch 1/20\n",
            "496/496 [==============================] - 9s 17ms/step - loss: 1.1122 - accuracy: 0.5159 - auc: 0.7895 - val_loss: 0.8303 - val_accuracy: 0.7130 - val_auc: 0.9104\n",
            "Epoch 2/20\n",
            "496/496 [==============================] - 10s 19ms/step - loss: 0.6845 - accuracy: 0.7907 - auc: 0.9469 - val_loss: 0.7784 - val_accuracy: 0.7733 - val_auc: 0.9326\n",
            "Epoch 3/20\n",
            "496/496 [==============================] - 8s 16ms/step - loss: 0.5009 - accuracy: 0.8794 - auc: 0.9774 - val_loss: 0.8706 - val_accuracy: 0.7647 - val_auc: 0.9296\n",
            "Epoch 4/20\n",
            "496/496 [==============================] - 8s 15ms/step - loss: 0.3830 - accuracy: 0.9272 - auc: 0.9904 - val_loss: 0.9573 - val_accuracy: 0.7627 - val_auc: 0.9264\n",
            "Epoch 5/20\n",
            "496/496 [==============================] - 8s 15ms/step - loss: 0.3164 - accuracy: 0.9571 - auc: 0.9949 - val_loss: 1.0621 - val_accuracy: 0.7617 - val_auc: 0.9210\n"
          ]
        }
      ]
    },
    {
      "cell_type": "code",
      "source": [
        "plt.plot(history.history['loss'], label=' training data')\n",
        "plt.plot(history.history['val_loss'], label='validation data)')\n",
        "plt.title('Loss for Text Classification')\n",
        "plt.ylabel('Loss value')\n",
        "plt.xlabel('No. epoch')\n",
        "plt.legend(loc=\"upper left\")\n",
        "plt.show()"
      ],
      "metadata": {
        "colab": {
          "base_uri": "https://localhost:8080/",
          "height": 295
        },
        "id": "lgyO1ZV7UncU",
        "outputId": "90cf3930-d6fa-4860-abc2-d596e420aff9"
      },
      "execution_count": null,
      "outputs": [
        {
          "output_type": "display_data",
          "data": {
            "text/plain": [
              "<Figure size 432x288 with 1 Axes>"
            ],
            "image/png": "[encoded data removed]"
          },
          "metadata": {
            "needs_background": "light"
          }
        }
      ]
    },
    {
      "cell_type": "code",
      "source": [
        "plt.plot(history.history['auc'], label=' Training AUC')\n",
        "plt.plot(history.history['val_auc'], label='Validation AUC)')\n",
        "plt.title('AUC Evaluation')\n",
        "plt.ylabel('AUC')\n",
        "plt.xlabel('No. epoch')\n",
        "plt.legend(loc=\"upper left\")\n",
        "plt.show()"
      ],
      "metadata": {
        "colab": {
          "base_uri": "https://localhost:8080/",
          "height": 295
        },
        "id": "TmIRNB4aUxeb",
        "outputId": "bc53dd92-30f0-4d1a-f9ea-c231f6963151"
      },
      "execution_count": null,
      "outputs": [
        {
          "output_type": "display_data",
          "data": {
            "text/plain": [
              "<Figure size 432x288 with 1 Axes>"
            ],
            "image/png": "[encoded data removed]"
          },
          "metadata": {
            "needs_background": "light"
          }
        }
      ]
    },
    {
      "cell_type": "code",
      "source": [
        "X_test"
      ],
      "metadata": {
        "colab": {
          "base_uri": "https://localhost:8080/"
        },
        "id": "jNKGt2z8OBQm",
        "outputId": "4aec8b7c-cfcc-469a-f6dc-78d4e9868280"
      },
      "execution_count": null,
      "outputs": [
        {
          "output_type": "execute_result",
          "data": {
            "text/plain": [
              "11838    struggling hard the lastyear lol looking for s...\n",
              "8942     after sum drinkswhether its the same day night...\n",
              "3494            use bread machine literally add water lmao\n",
              "3261     those moments are the reason love this sport w...\n",
              "8434     fun after effects having cvd year later coughi...\n",
              "                               ...                        \n",
              "7803     album going called shallow water shall will ha...\n",
              "19595    proof pic one glass water and one floating nee...\n",
              "16312    thank you cosmosmagazine thanks research aibn ...\n",
              "9366     digestive system entirely doesnt work anymore ...\n",
              "13671    see most are not not sensitive little princess...\n",
              "Name: body, Length: 3965, dtype: object"
            ]
          },
          "metadata": {},
          "execution_count": 50
        }
      ]
    },
    {
      "cell_type": "code",
      "source": [
        "x_test2  = np.array( tokenizer.texts_to_sequences(X_test.astype(str).tolist()) )\n",
        "x_test2 = pad_sequences(x_test2, padding='post', maxlen=256)"
      ],
      "metadata": {
        "colab": {
          "base_uri": "https://localhost:8080/"
        },
        "id": "2SlEGiruOEH5",
        "outputId": "9b1b5e2e-d719-4f33-f465-b29701a82675"
      },
      "execution_count": null,
      "outputs": [
        {
          "output_type": "stream",
          "name": "stderr",
          "text": [
            "<ipython-input-53-1bce84296b7e>:1: VisibleDeprecationWarning: Creating an ndarray from ragged nested sequences (which is a list-or-tuple of lists-or-tuples-or ndarrays with different lengths or shapes) is deprecated. If you meant to do this, you must specify 'dtype=object' when creating the ndarray.\n",
            "  x_test2  = np.array( tokenizer.texts_to_sequences(X_test.astype(str).tolist()) )\n"
          ]
        }
      ]
    },
    {
      "cell_type": "code",
      "source": [
        "print(\"Generate predictions for all samples\")\n",
        "y_predictions = model.predict(x_test2)\n",
        "y_pred = y_predictions.argmax(axis=1)\n",
        "y_pred"
      ],
      "metadata": {
        "colab": {
          "base_uri": "https://localhost:8080/"
        },
        "id": "Cgi_iP8mOGt2",
        "outputId": "327dbbeb-7b21-45c1-84bb-05a3f7e31525"
      },
      "execution_count": null,
      "outputs": [
        {
          "output_type": "stream",
          "name": "stdout",
          "text": [
            "Generate predictions for all samples\n",
            "124/124 [==============================] - 0s 3ms/step\n"
          ]
        },
        {
          "output_type": "execute_result",
          "data": {
            "text/plain": [
              "array([0, 1, 2, ..., 3, 1, 2])"
            ]
          },
          "metadata": {},
          "execution_count": 54
        }
      ]
    },
    {
      "cell_type": "code",
      "source": [
        "y_test.shape\n",
        "y_test"
      ],
      "metadata": {
        "colab": {
          "base_uri": "https://localhost:8080/"
        },
        "id": "YfF8pQU-OIZC",
        "outputId": "66a964a5-ff0c-4d5b-d89e-05d07bfb0267"
      },
      "execution_count": null,
      "outputs": [
        {
          "output_type": "execute_result",
          "data": {
            "text/plain": [
              "11838    2\n",
              "8942     1\n",
              "3494     0\n",
              "3261     0\n",
              "8434     1\n",
              "        ..\n",
              "7803     1\n",
              "19595    3\n",
              "16312    3\n",
              "9366     1\n",
              "13671    2\n",
              "Name: cod, Length: 3965, dtype: int64"
            ]
          },
          "metadata": {},
          "execution_count": 55
        }
      ]
    },
    {
      "cell_type": "code",
      "source": [
        "labels = [0, 1, 2, 3]\n",
        "#labels = labels.values.astype(int).astype(str)\n",
        "print(classification_report(y_test, y_pred, labels=labels))"
      ],
      "metadata": {
        "colab": {
          "base_uri": "https://localhost:8080/"
        },
        "id": "Q0I5XipPOQD5",
        "outputId": "6a6055cd-410a-4ce9-c884-7d789c65d75a"
      },
      "execution_count": null,
      "outputs": [
        {
          "output_type": "stream",
          "name": "stdout",
          "text": [
            "              precision    recall  f1-score   support\n",
            "\n",
            "           0       0.78      0.66      0.71       972\n",
            "           1       0.85      0.88      0.87       996\n",
            "           2       0.73      0.78      0.75      1091\n",
            "           3       0.69      0.72      0.70       906\n",
            "\n",
            "    accuracy                           0.76      3965\n",
            "   macro avg       0.76      0.76      0.76      3965\n",
            "weighted avg       0.76      0.76      0.76      3965\n",
            "\n"
          ]
        }
      ]
    }
  ]
}