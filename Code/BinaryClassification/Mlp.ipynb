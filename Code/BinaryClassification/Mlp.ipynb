{
  "nbformat": 4,
  "nbformat_minor": 0,
  "metadata": {
    "colab": {
      "provenance": []
    },
    "kernelspec": {
      "name": "python3",
      "display_name": "Python 3"
    },
    "language_info": {
      "name": "python"
    }
  },
  "cells": [
    {
      "cell_type": "code",
      "execution_count": null,
      "metadata": {
        "id": "yefIWK5SR9sY"
      },
      "outputs": [],
      "source": [
        "import pandas as pd\n",
        "import numpy as np\n",
        "\n",
        "import tensorflow as tf\n",
        "\n",
        "import matplotlib.pyplot as plt\n",
        "\n",
        "from tensorflow.keras import regularizers\n",
        "from tensorflow.keras import layers\n",
        "from tensorflow.keras import losses\n",
        "from tensorflow.keras.callbacks import EarlyStopping\n",
        "\n",
        "from tensorflow.keras.metrics import AUC\n",
        "\n",
        "from sklearn.feature_extraction.text import TfidfVectorizer\n",
        "from sklearn.model_selection import train_test_split\n",
        "from sklearn.preprocessing import LabelEncoder\n",
        "from sklearn.metrics import accuracy_score, f1_score, precision_score, recall_score, classification_report, confusion_matrix, matthews_corrcoef, roc_curve, auc, roc_auc_score\n",
        "\n",
        "from tensorflow.keras.optimizers import Adam\n",
        "from tensorflow.keras.initializers import Constant\n",
        "from tensorflow.keras.preprocessing.text import Tokenizer\n",
        "from tensorflow.keras.preprocessing.sequence import pad_sequences"
      ]
    },
    {
      "cell_type": "code",
      "source": [
        "from google.colab import drive\n",
        "drive.mount('/content/drive')"
      ],
      "metadata": {
        "colab": {
          "base_uri": "https://localhost:8080/"
        },
        "id": "J-gjznvvSEVD",
        "outputId": "bc8d8805-c557-42a0-ceee-0b5e4ce95d4d"
      },
      "execution_count": null,
      "outputs": [
        {
          "output_type": "stream",
          "name": "stdout",
          "text": [
            "Drive already mounted at /content/drive; to attempt to forcibly remount, call drive.mount(\"/content/drive\", force_remount=True).\n"
          ]
        }
      ]
    },
    {
      "cell_type": "code",
      "source": [
        "train_data = pd.read_csv('/content/drive/MyDrive/waterQuality/wQuality.csv')\n",
        "train_data.head()"
      ],
      "metadata": {
        "colab": {
          "base_uri": "https://localhost:8080/",
          "height": 206
        },
        "id": "ijR27iXVSdxA",
        "outputId": "63f534d4-878f-43e0-e728-54e5c1a9af01"
      },
      "execution_count": null,
      "outputs": [
        {
          "output_type": "execute_result",
          "data": {
            "text/plain": [
              "   Unnamed: 0                                               text  corr  class\n",
              "0           0  predatory white pointers dingos saltwatercrocs...     1      0\n",
              "1           1  this january simply note that are still having...     1      0\n",
              "2           2  pronouns hehim height zodiac sign leo smoke he...     1      0\n",
              "3           3  pronouns hehim height zodiac sign sagittarius ...     1      0\n",
              "4           4  hoses are inchworm water lilies are powderblue...     1      0"
            ],
            "text/html": [
              "\n",
              "  <div id=\"df-0bee0c3b-fc1e-479e-b1db-ce388a8f200e\">\n",
              "    <div class=\"colab-df-container\">\n",
              "      <div>\n",
              "<style scoped>\n",
              "    .dataframe tbody tr th:only-of-type {\n",
              "        vertical-align: middle;\n",
              "    }\n",
              "\n",
              "    .dataframe tbody tr th {\n",
              "        vertical-align: top;\n",
              "    }\n",
              "\n",
              "    .dataframe thead th {\n",
              "        text-align: right;\n",
              "    }\n",
              "</style>\n",
              "<table border=\"1\" class=\"dataframe\">\n",
              "  <thead>\n",
              "    <tr style=\"text-align: right;\">\n",
              "      <th></th>\n",
              "      <th>Unnamed: 0</th>\n",
              "      <th>text</th>\n",
              "      <th>corr</th>\n",
              "      <th>class</th>\n",
              "    </tr>\n",
              "  </thead>\n",
              "  <tbody>\n",
              "    <tr>\n",
              "      <th>0</th>\n",
              "      <td>0</td>\n",
              "      <td>predatory white pointers dingos saltwatercrocs...</td>\n",
              "      <td>1</td>\n",
              "      <td>0</td>\n",
              "    </tr>\n",
              "    <tr>\n",
              "      <th>1</th>\n",
              "      <td>1</td>\n",
              "      <td>this january simply note that are still having...</td>\n",
              "      <td>1</td>\n",
              "      <td>0</td>\n",
              "    </tr>\n",
              "    <tr>\n",
              "      <th>2</th>\n",
              "      <td>2</td>\n",
              "      <td>pronouns hehim height zodiac sign leo smoke he...</td>\n",
              "      <td>1</td>\n",
              "      <td>0</td>\n",
              "    </tr>\n",
              "    <tr>\n",
              "      <th>3</th>\n",
              "      <td>3</td>\n",
              "      <td>pronouns hehim height zodiac sign sagittarius ...</td>\n",
              "      <td>1</td>\n",
              "      <td>0</td>\n",
              "    </tr>\n",
              "    <tr>\n",
              "      <th>4</th>\n",
              "      <td>4</td>\n",
              "      <td>hoses are inchworm water lilies are powderblue...</td>\n",
              "      <td>1</td>\n",
              "      <td>0</td>\n",
              "    </tr>\n",
              "  </tbody>\n",
              "</table>\n",
              "</div>\n",
              "      <button class=\"colab-df-convert\" onclick=\"convertToInteractive('df-0bee0c3b-fc1e-479e-b1db-ce388a8f200e')\"\n",
              "              title=\"Convert this dataframe to an interactive table.\"\n",
              "              style=\"display:none;\">\n",
              "        \n",
              "  <svg xmlns=\"http://www.w3.org/2000/svg\" height=\"24px\"viewBox=\"0 0 24 24\"\n",
              "       width=\"24px\">\n",
              "    <path d=\"M0 0h24v24H0V0z\" fill=\"none\"/>\n",
              "    <path d=\"M18.56 5.44l.94 2.06.94-2.06 2.06-.94-2.06-.94-.94-2.06-.94 2.06-2.06.94zm-11 1L8.5 8.5l.94-2.06 2.06-.94-2.06-.94L8.5 2.5l-.94 2.06-2.06.94zm10 10l.94 2.06.94-2.06 2.06-.94-2.06-.94-.94-2.06-.94 2.06-2.06.94z\"/><path d=\"M17.41 7.96l-1.37-1.37c-.4-.4-.92-.59-1.43-.59-.52 0-1.04.2-1.43.59L10.3 9.45l-7.72 7.72c-.78.78-.78 2.05 0 2.83L4 21.41c.39.39.9.59 1.41.59.51 0 1.02-.2 1.41-.59l7.78-7.78 2.81-2.81c.8-.78.8-2.07 0-2.86zM5.41 20L4 18.59l7.72-7.72 1.47 1.35L5.41 20z\"/>\n",
              "  </svg>\n",
              "      </button>\n",
              "      \n",
              "  <style>\n",
              "    .colab-df-container {\n",
              "      display:flex;\n",
              "      flex-wrap:wrap;\n",
              "      gap: 12px;\n",
              "    }\n",
              "\n",
              "    .colab-df-convert {\n",
              "      background-color: #E8F0FE;\n",
              "      border: none;\n",
              "      border-radius: 50%;\n",
              "      cursor: pointer;\n",
              "      display: none;\n",
              "      fill: #1967D2;\n",
              "      height: 32px;\n",
              "      padding: 0 0 0 0;\n",
              "      width: 32px;\n",
              "    }\n",
              "\n",
              "    .colab-df-convert:hover {\n",
              "      background-color: #E2EBFA;\n",
              "      box-shadow: 0px 1px 2px rgba(60, 64, 67, 0.3), 0px 1px 3px 1px rgba(60, 64, 67, 0.15);\n",
              "      fill: #174EA6;\n",
              "    }\n",
              "\n",
              "    [theme=dark] .colab-df-convert {\n",
              "      background-color: #3B4455;\n",
              "      fill: #D2E3FC;\n",
              "    }\n",
              "\n",
              "    [theme=dark] .colab-df-convert:hover {\n",
              "      background-color: #434B5C;\n",
              "      box-shadow: 0px 1px 3px 1px rgba(0, 0, 0, 0.15);\n",
              "      filter: drop-shadow(0px 1px 2px rgba(0, 0, 0, 0.3));\n",
              "      fill: #FFFFFF;\n",
              "    }\n",
              "  </style>\n",
              "\n",
              "      <script>\n",
              "        const buttonEl =\n",
              "          document.querySelector('#df-0bee0c3b-fc1e-479e-b1db-ce388a8f200e button.colab-df-convert');\n",
              "        buttonEl.style.display =\n",
              "          google.colab.kernel.accessAllowed ? 'block' : 'none';\n",
              "\n",
              "        async function convertToInteractive(key) {\n",
              "          const element = document.querySelector('#df-0bee0c3b-fc1e-479e-b1db-ce388a8f200e');\n",
              "          const dataTable =\n",
              "            await google.colab.kernel.invokeFunction('convertToInteractive',\n",
              "                                                     [key], {});\n",
              "          if (!dataTable) return;\n",
              "\n",
              "          const docLinkHtml = 'Like what you see? Visit the ' +\n",
              "            '<a target=\"_blank\" href=https://colab.research.google.com/notebooks/data_table.ipynb>data table notebook</a>'\n",
              "            + ' to learn more about interactive tables.';\n",
              "          element.innerHTML = '';\n",
              "          dataTable['output_type'] = 'display_data';\n",
              "          await google.colab.output.renderOutput(dataTable, element);\n",
              "          const docLink = document.createElement('div');\n",
              "          docLink.innerHTML = docLinkHtml;\n",
              "          element.appendChild(docLink);\n",
              "        }\n",
              "      </script>\n",
              "    </div>\n",
              "  </div>\n",
              "  "
            ]
          },
          "metadata": {},
          "execution_count": 3
        }
      ]
    },
    {
      "cell_type": "code",
      "source": [
        "# calculate word count of each sentence\n",
        "train_data['word_counter'] = train_data['text'].apply(lambda x:len(str(x).split())) "
      ],
      "metadata": {
        "id": "eDYuy0dkSjn9"
      },
      "execution_count": null,
      "outputs": []
    },
    {
      "cell_type": "code",
      "source": [
        "print('Info about training data:')\n",
        "print(train_data['corr'].value_counts())\n",
        "print('Total comments: ', len(train_data))\n",
        "\n",
        "# will be used in cnn\n",
        "max_train_sentence_length  = train_data['word_counter'].max()"
      ],
      "metadata": {
        "colab": {
          "base_uri": "https://localhost:8080/"
        },
        "id": "vnausK7mSoHb",
        "outputId": "febd438b-5946-4dd4-cabe-dc76b69f2274"
      },
      "execution_count": null,
      "outputs": [
        {
          "output_type": "stream",
          "name": "stdout",
          "text": [
            "Info about training data:\n",
            "1    19824\n",
            "0    18981\n",
            "Name: corr, dtype: int64\n",
            "Total comments:  38805\n"
          ]
        }
      ]
    },
    {
      "cell_type": "code",
      "source": [
        "# will be used for padding\n",
        "print('Train Max Sentence Length :'+str(max_train_sentence_length))"
      ],
      "metadata": {
        "colab": {
          "base_uri": "https://localhost:8080/"
        },
        "id": "h5iQF_LfStrv",
        "outputId": "f990ee58-f20d-475e-8c38-65a1dd2254fd"
      },
      "execution_count": null,
      "outputs": [
        {
          "output_type": "stream",
          "name": "stdout",
          "text": [
            "Train Max Sentence Length :53\n"
          ]
        }
      ]
    },
    {
      "cell_type": "code",
      "source": [
        "\n",
        "num_words = 20000\n",
        "\n",
        "# convert texts to number format - for tensorflow.\n",
        "\n",
        "tokenizer = Tokenizer(num_words=num_words)\n",
        "tokenizer.fit_on_texts(train_data['text'].values.astype(str).tolist())"
      ],
      "metadata": {
        "id": "5Hjted0_SyT1"
      },
      "execution_count": null,
      "outputs": []
    },
    {
      "cell_type": "code",
      "source": [
        "# splitting train and test data\n",
        "X_train, X_test, y_train, y_test = train_test_split(train_data['text'],\\\n",
        "                                                      train_data['corr'],\\\n",
        "                                                      test_size=0.3,\\\n",
        "                                                      random_state=0)"
      ],
      "metadata": {
        "id": "qQv5O3v_S5MU"
      },
      "execution_count": null,
      "outputs": []
    },
    {
      "cell_type": "code",
      "source": [
        "x_train = np.array( tokenizer.texts_to_sequences(X_train.values.astype(str)) )\n",
        "x_test  = np.array( tokenizer.texts_to_sequences(X_test.values.astype(str)) )"
      ],
      "metadata": {
        "colab": {
          "base_uri": "https://localhost:8080/"
        },
        "id": "kc1qXigETB9k",
        "outputId": "843d5e3a-6874-4894-f2f1-9e6ee8b76a8c"
      },
      "execution_count": null,
      "outputs": [
        {
          "output_type": "stream",
          "name": "stderr",
          "text": [
            "<ipython-input-9-9ee80a7500df>:1: VisibleDeprecationWarning: Creating an ndarray from ragged nested sequences (which is a list-or-tuple of lists-or-tuples-or ndarrays with different lengths or shapes) is deprecated. If you meant to do this, you must specify 'dtype=object' when creating the ndarray.\n",
            "  x_train = np.array( tokenizer.texts_to_sequences(X_train.values.astype(str)) )\n",
            "<ipython-input-9-9ee80a7500df>:2: VisibleDeprecationWarning: Creating an ndarray from ragged nested sequences (which is a list-or-tuple of lists-or-tuples-or ndarrays with different lengths or shapes) is deprecated. If you meant to do this, you must specify 'dtype=object' when creating the ndarray.\n",
            "  x_test  = np.array( tokenizer.texts_to_sequences(X_test.values.astype(str)) )\n"
          ]
        }
      ]
    },
    {
      "cell_type": "code",
      "source": [
        "x_train = pad_sequences(x_train, padding='post', maxlen=256)\n",
        "x_test = pad_sequences(x_test, padding='post', maxlen=256)"
      ],
      "metadata": {
        "id": "o0LPfO8JTElI"
      },
      "execution_count": null,
      "outputs": []
    },
    {
      "cell_type": "code",
      "source": [
        "le = LabelEncoder()\n",
        "\n",
        "train_labels = le.fit_transform(y_train)\n",
        "train_labels = np.asarray( tf.keras.utils.to_categorical(train_labels))\n",
        "\n",
        "test_labels = le.transform(y_test)\n",
        "test_labels = np.asarray(tf.keras.utils.to_categorical(test_labels))\n",
        "list(le.classes_)"
      ],
      "metadata": {
        "colab": {
          "base_uri": "https://localhost:8080/"
        },
        "id": "zLpYc-dvTGL-",
        "outputId": "e650408f-93c4-4bd4-b2be-4acdf5234447"
      },
      "execution_count": null,
      "outputs": [
        {
          "output_type": "execute_result",
          "data": {
            "text/plain": [
              "[0, 1]"
            ]
          },
          "metadata": {},
          "execution_count": 11
        }
      ]
    },
    {
      "cell_type": "code",
      "source": [
        "train_ds = tf.data.Dataset.from_tensor_slices((x_train,train_labels))\n",
        "test_ds = tf.data.Dataset.from_tensor_slices((x_test,test_labels))"
      ],
      "metadata": {
        "id": "UCgWHiAtQ5sO"
      },
      "execution_count": null,
      "outputs": []
    },
    {
      "cell_type": "code",
      "source": [
        "# Details for label encoding process\n",
        "print(y_train[:10])\n",
        "train_labels = le.fit_transform(y_train)\n",
        "print('Text to number')\n",
        "print(train_labels[:10])\n",
        "train_labels = np.asarray( tf.keras.utils.to_categorical(train_labels))\n",
        "print('Number to category')\n",
        "print(train_labels[:10])"
      ],
      "metadata": {
        "colab": {
          "base_uri": "https://localhost:8080/"
        },
        "id": "dliOqP8vQ8V-",
        "outputId": "4517c61d-7288-4bcf-f766-e3cf7df9921f"
      },
      "execution_count": null,
      "outputs": [
        {
          "output_type": "stream",
          "name": "stdout",
          "text": [
            "2894     1\n",
            "36529    0\n",
            "22543    0\n",
            "4659     1\n",
            "13624    1\n",
            "4738     1\n",
            "7        1\n",
            "4296     1\n",
            "24283    0\n",
            "28095    0\n",
            "Name: corr, dtype: int64\n",
            "Text to number\n",
            "[1 0 0 1 1 1 1 1 0 0]\n",
            "Number to category\n",
            "[[0. 1.]\n",
            " [1. 0.]\n",
            " [1. 0.]\n",
            " [0. 1.]\n",
            " [0. 1.]\n",
            " [0. 1.]\n",
            " [0. 1.]\n",
            " [0. 1.]\n",
            " [1. 0.]\n",
            " [1. 0.]]\n"
          ]
        }
      ]
    },
    {
      "cell_type": "code",
      "source": [
        "# looking for top 30k comments\n",
        "max_features = 20000\n",
        "\n",
        "#every index is represented by 64 dimensional vector\n",
        "embedding_dim =64\n",
        "\n",
        "#each input has 256 dimension\n",
        "sequence_length = 256\n",
        "\n",
        "model = tf.keras.Sequential()\n",
        "\n",
        "model.add(tf.keras.layers.Embedding(max_features, embedding_dim, input_length=sequence_length,\\\n",
        "                                   embeddings_regularizer = regularizers.l2(0.0005))) \n",
        "\n",
        "model.add(tf.keras.layers.Flatten())\n",
        "model.add(tf.keras.layers.Dense(64, activation='relu'))\n",
        "model.add(tf.keras.layers.Dense(64, activation='relu'))\n",
        "model.add(tf.keras.layers.Dense(128, activation='relu'))\n",
        "model.add(tf.keras.layers.Dense(2, activation='softmax'))\n",
        "model.compile(loss='categorical_crossentropy', optimizer='adam', metrics=['accuracy', AUC(name='auc')])"
      ],
      "metadata": {
        "id": "-SNvQSiITNNG"
      },
      "execution_count": null,
      "outputs": []
    },
    {
      "cell_type": "code",
      "source": [
        "# Training model\n",
        "\n",
        "callbacks = [EarlyStopping(monitor='val_loss', patience=3)]\n",
        "\n",
        "# Fit the model using the train and test datasets.\n",
        "history = model.fit(x_train,\n",
        "                    train_labels,\n",
        "                    epochs= 10,\n",
        "                    callbacks=callbacks,\n",
        "                    validation_data=(x_test, test_labels),\n",
        "                    verbose=1)"
      ],
      "metadata": {
        "colab": {
          "base_uri": "https://localhost:8080/"
        },
        "id": "EqHPY0uHTWgJ",
        "outputId": "2f4a5ed9-a15f-4dca-a1fb-52da1797c91f"
      },
      "execution_count": null,
      "outputs": [
        {
          "output_type": "stream",
          "name": "stdout",
          "text": [
            "Epoch 1/10\n",
            "849/849 [==============================] - 32s 35ms/step - loss: 0.2282 - accuracy: 0.9147 - auc: 0.9793 - val_loss: 0.1750 - val_accuracy: 0.9472 - val_auc: 0.9907\n",
            "Epoch 2/10\n",
            "849/849 [==============================] - 23s 27ms/step - loss: 0.1501 - accuracy: 0.9591 - auc: 0.9942 - val_loss: 0.2025 - val_accuracy: 0.9327 - val_auc: 0.9874\n",
            "Epoch 3/10\n",
            "849/849 [==============================] - 23s 28ms/step - loss: 0.1424 - accuracy: 0.9686 - auc: 0.9961 - val_loss: 0.2171 - val_accuracy: 0.9381 - val_auc: 0.9885\n",
            "Epoch 4/10\n",
            "849/849 [==============================] - 21s 25ms/step - loss: 0.1287 - accuracy: 0.9774 - auc: 0.9978 - val_loss: 0.2494 - val_accuracy: 0.9441 - val_auc: 0.9872\n"
          ]
        }
      ]
    },
    {
      "cell_type": "code",
      "source": [
        "plt.plot(history.history['loss'], label=' training data')\n",
        "plt.plot(history.history['val_loss'], label='validation data)')\n",
        "plt.title('Loss for Text Classification')\n",
        "plt.ylabel('Loss value')\n",
        "plt.xlabel('No. epoch')\n",
        "plt.legend(loc=\"upper left\")\n",
        "plt.show()"
      ],
      "metadata": {
        "colab": {
          "base_uri": "https://localhost:8080/",
          "height": 295
        },
        "id": "lgyO1ZV7UncU",
        "outputId": "363becea-0833-4d4a-c377-e4b32aac2aa3"
      },
      "execution_count": null,
      "outputs": [
        {
          "output_type": "display_data",
          "data": {
            "text/plain": [
              "<Figure size 432x288 with 1 Axes>"
            ],
            "image/png": "[encoded data removed]"
          },
          "metadata": {
            "needs_background": "light"
          }
        }
      ]
    },
    {
      "cell_type": "code",
      "source": [
        "plt.plot(history.history['auc'], label=' Training AUC')\n",
        "plt.plot(history.history['val_auc'], label='Validation AUC)')\n",
        "plt.title('AUC Evaluation')\n",
        "plt.ylabel('AUC')\n",
        "plt.xlabel('No. epoch')\n",
        "plt.legend(loc=\"upper left\")\n",
        "plt.show()"
      ],
      "metadata": {
        "colab": {
          "base_uri": "https://localhost:8080/",
          "height": 295
        },
        "id": "TmIRNB4aUxeb",
        "outputId": "4a5cdfa7-9be9-4a20-d2ba-0d105de60552"
      },
      "execution_count": null,
      "outputs": [
        {
          "output_type": "display_data",
          "data": {
            "text/plain": [
              "<Figure size 432x288 with 1 Axes>"
            ],
            "image/png": "[encoded data removed]"
          },
          "metadata": {
            "needs_background": "light"
          }
        }
      ]
    },
    {
      "cell_type": "code",
      "source": [
        "x_test2  = np.array( tokenizer.texts_to_sequences(X_test.astype(str).tolist()) )\n",
        "x_test2 = pad_sequences(x_test2, padding='post', maxlen=256)"
      ],
      "metadata": {
        "colab": {
          "base_uri": "https://localhost:8080/"
        },
        "id": "af3pNfL9U39q",
        "outputId": "32f5c6a5-409f-4f5f-ce98-fee3f49aa609"
      },
      "execution_count": null,
      "outputs": [
        {
          "output_type": "stream",
          "name": "stderr",
          "text": [
            "<ipython-input-21-1bce84296b7e>:1: VisibleDeprecationWarning: Creating an ndarray from ragged nested sequences (which is a list-or-tuple of lists-or-tuples-or ndarrays with different lengths or shapes) is deprecated. If you meant to do this, you must specify 'dtype=object' when creating the ndarray.\n",
            "  x_test2  = np.array( tokenizer.texts_to_sequences(X_test.astype(str).tolist()) )\n"
          ]
        }
      ]
    },
    {
      "cell_type": "code",
      "source": [
        "# Generate predictions (probabilities -- the output of the last layer)\n",
        "# on test  data using `predict`\n",
        "print(\"Generate predictions for all samples\")\n",
        "y_predictions = model.predict(x_test2)\n",
        "y_pred = y_predictions.argmax(axis=1)\n",
        "y_pred"
      ],
      "metadata": {
        "colab": {
          "base_uri": "https://localhost:8080/"
        },
        "id": "bblfbSZ3U6q2",
        "outputId": "2ace8eb0-103b-489d-f720-5f41fdd863d6"
      },
      "execution_count": null,
      "outputs": [
        {
          "output_type": "stream",
          "name": "stdout",
          "text": [
            "Generate predictions for all samples\n",
            "364/364 [==============================] - 1s 4ms/step\n"
          ]
        },
        {
          "output_type": "execute_result",
          "data": {
            "text/plain": [
              "array([0, 1, 1, ..., 0, 0, 1])"
            ]
          },
          "metadata": {},
          "execution_count": 22
        }
      ]
    },
    {
      "cell_type": "code",
      "source": [
        "labels = [0, 1]\n",
        "#labels = labels.values.astype(int).astype(str)\n",
        "print(classification_report(y_test, y_pred, labels=labels))"
      ],
      "metadata": {
        "colab": {
          "base_uri": "https://localhost:8080/"
        },
        "id": "ZbGmkVv-QcGe",
        "outputId": "76f346e6-fd74-44c5-ebac-568321cf990a"
      },
      "execution_count": null,
      "outputs": [
        {
          "output_type": "stream",
          "name": "stdout",
          "text": [
            "              precision    recall  f1-score   support\n",
            "\n",
            "           0       0.92      0.97      0.94      5733\n",
            "           1       0.96      0.92      0.94      5909\n",
            "\n",
            "    accuracy                           0.94     11642\n",
            "   macro avg       0.94      0.94      0.94     11642\n",
            "weighted avg       0.94      0.94      0.94     11642\n",
            "\n"
          ]
        }
      ]
    }
  ]
}