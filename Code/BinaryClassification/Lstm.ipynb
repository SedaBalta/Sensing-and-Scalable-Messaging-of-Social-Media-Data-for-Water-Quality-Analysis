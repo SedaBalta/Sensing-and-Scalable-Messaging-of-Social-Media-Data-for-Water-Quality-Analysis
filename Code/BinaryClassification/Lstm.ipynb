{
  "nbformat": 4,
  "nbformat_minor": 0,
  "metadata": {
    "colab": {
      "provenance": []
    },
    "kernelspec": {
      "name": "python3",
      "display_name": "Python 3"
    },
    "language_info": {
      "name": "python"
    },
    "accelerator": "GPU",
    "gpuClass": "standard"
  },
  "cells": [
    {
      "cell_type": "code",
      "execution_count": null,
      "metadata": {
        "id": "guqaeMb_IeYJ"
      },
      "outputs": [],
      "source": [
        "import pandas as pd\n",
        "import numpy as np\n",
        "\n",
        "import tensorflow as tf\n",
        "\n",
        "import matplotlib.pyplot as plt\n",
        "\n",
        "from tensorflow.keras import regularizers\n",
        "from tensorflow.keras import layers\n",
        "from tensorflow.keras import losses\n",
        "\n",
        "from tensorflow.keras.metrics import AUC\n",
        "\n",
        "from sklearn.feature_extraction.text import TfidfVectorizer\n",
        "from sklearn.model_selection import train_test_split\n",
        "from sklearn.preprocessing import LabelEncoder\n",
        "from sklearn.metrics import accuracy_score, f1_score, precision_score, recall_score, classification_report, confusion_matrix, matthews_corrcoef, roc_curve, auc, roc_auc_score\n",
        "\n",
        "\n",
        "from tensorflow.keras.preprocessing.text import Tokenizer\n",
        "from tensorflow.keras.preprocessing.sequence import pad_sequences"
      ]
    },
    {
      "cell_type": "code",
      "source": [
        "from google.colab import drive\n",
        "drive.mount('/content/drive')"
      ],
      "metadata": {
        "colab": {
          "base_uri": "https://localhost:8080/"
        },
        "id": "yYtIf24XQ9gr",
        "outputId": "c6dfc3ba-1219-4d65-ed76-8c84140be30e"
      },
      "execution_count": null,
      "outputs": [
        {
          "output_type": "stream",
          "name": "stdout",
          "text": [
            "Mounted at /content/drive\n"
          ]
        }
      ]
    },
    {
      "cell_type": "code",
      "source": [
        "train_data = pd.read_csv('/content/drive/MyDrive/waterQuality/wQuality.csv')"
      ],
      "metadata": {
        "id": "iaNCfzn7RFFR"
      },
      "execution_count": null,
      "outputs": []
    },
    {
      "cell_type": "code",
      "source": [
        "train_data.head()"
      ],
      "metadata": {
        "colab": {
          "base_uri": "https://localhost:8080/",
          "height": 206
        },
        "id": "dE5ZlUtuQ427",
        "outputId": "a4e71531-1571-472f-a7b6-fba0f0131392"
      },
      "execution_count": null,
      "outputs": [
        {
          "output_type": "execute_result",
          "data": {
            "text/plain": [
              "   Unnamed: 0                                               text  corr  class\n",
              "0           0  predatory white pointers dingos saltwatercrocs...     1      0\n",
              "1           1  this january simply note that are still having...     1      0\n",
              "2           2  pronouns hehim height zodiac sign leo smoke he...     1      0\n",
              "3           3  pronouns hehim height zodiac sign sagittarius ...     1      0\n",
              "4           4  hoses are inchworm water lilies are powderblue...     1      0"
            ],
            "text/html": [
              "\n",
              "  <div id=\"df-169c0ef1-2858-4505-9b53-7a245b9774fb\">\n",
              "    <div class=\"colab-df-container\">\n",
              "      <div>\n",
              "<style scoped>\n",
              "    .dataframe tbody tr th:only-of-type {\n",
              "        vertical-align: middle;\n",
              "    }\n",
              "\n",
              "    .dataframe tbody tr th {\n",
              "        vertical-align: top;\n",
              "    }\n",
              "\n",
              "    .dataframe thead th {\n",
              "        text-align: right;\n",
              "    }\n",
              "</style>\n",
              "<table border=\"1\" class=\"dataframe\">\n",
              "  <thead>\n",
              "    <tr style=\"text-align: right;\">\n",
              "      <th></th>\n",
              "      <th>Unnamed: 0</th>\n",
              "      <th>text</th>\n",
              "      <th>corr</th>\n",
              "      <th>class</th>\n",
              "    </tr>\n",
              "  </thead>\n",
              "  <tbody>\n",
              "    <tr>\n",
              "      <th>0</th>\n",
              "      <td>0</td>\n",
              "      <td>predatory white pointers dingos saltwatercrocs...</td>\n",
              "      <td>1</td>\n",
              "      <td>0</td>\n",
              "    </tr>\n",
              "    <tr>\n",
              "      <th>1</th>\n",
              "      <td>1</td>\n",
              "      <td>this january simply note that are still having...</td>\n",
              "      <td>1</td>\n",
              "      <td>0</td>\n",
              "    </tr>\n",
              "    <tr>\n",
              "      <th>2</th>\n",
              "      <td>2</td>\n",
              "      <td>pronouns hehim height zodiac sign leo smoke he...</td>\n",
              "      <td>1</td>\n",
              "      <td>0</td>\n",
              "    </tr>\n",
              "    <tr>\n",
              "      <th>3</th>\n",
              "      <td>3</td>\n",
              "      <td>pronouns hehim height zodiac sign sagittarius ...</td>\n",
              "      <td>1</td>\n",
              "      <td>0</td>\n",
              "    </tr>\n",
              "    <tr>\n",
              "      <th>4</th>\n",
              "      <td>4</td>\n",
              "      <td>hoses are inchworm water lilies are powderblue...</td>\n",
              "      <td>1</td>\n",
              "      <td>0</td>\n",
              "    </tr>\n",
              "  </tbody>\n",
              "</table>\n",
              "</div>\n",
              "      <button class=\"colab-df-convert\" onclick=\"convertToInteractive('df-169c0ef1-2858-4505-9b53-7a245b9774fb')\"\n",
              "              title=\"Convert this dataframe to an interactive table.\"\n",
              "              style=\"display:none;\">\n",
              "        \n",
              "  <svg xmlns=\"http://www.w3.org/2000/svg\" height=\"24px\"viewBox=\"0 0 24 24\"\n",
              "       width=\"24px\">\n",
              "    <path d=\"M0 0h24v24H0V0z\" fill=\"none\"/>\n",
              "    <path d=\"M18.56 5.44l.94 2.06.94-2.06 2.06-.94-2.06-.94-.94-2.06-.94 2.06-2.06.94zm-11 1L8.5 8.5l.94-2.06 2.06-.94-2.06-.94L8.5 2.5l-.94 2.06-2.06.94zm10 10l.94 2.06.94-2.06 2.06-.94-2.06-.94-.94-2.06-.94 2.06-2.06.94z\"/><path d=\"M17.41 7.96l-1.37-1.37c-.4-.4-.92-.59-1.43-.59-.52 0-1.04.2-1.43.59L10.3 9.45l-7.72 7.72c-.78.78-.78 2.05 0 2.83L4 21.41c.39.39.9.59 1.41.59.51 0 1.02-.2 1.41-.59l7.78-7.78 2.81-2.81c.8-.78.8-2.07 0-2.86zM5.41 20L4 18.59l7.72-7.72 1.47 1.35L5.41 20z\"/>\n",
              "  </svg>\n",
              "      </button>\n",
              "      \n",
              "  <style>\n",
              "    .colab-df-container {\n",
              "      display:flex;\n",
              "      flex-wrap:wrap;\n",
              "      gap: 12px;\n",
              "    }\n",
              "\n",
              "    .colab-df-convert {\n",
              "      background-color: #E8F0FE;\n",
              "      border: none;\n",
              "      border-radius: 50%;\n",
              "      cursor: pointer;\n",
              "      display: none;\n",
              "      fill: #1967D2;\n",
              "      height: 32px;\n",
              "      padding: 0 0 0 0;\n",
              "      width: 32px;\n",
              "    }\n",
              "\n",
              "    .colab-df-convert:hover {\n",
              "      background-color: #E2EBFA;\n",
              "      box-shadow: 0px 1px 2px rgba(60, 64, 67, 0.3), 0px 1px 3px 1px rgba(60, 64, 67, 0.15);\n",
              "      fill: #174EA6;\n",
              "    }\n",
              "\n",
              "    [theme=dark] .colab-df-convert {\n",
              "      background-color: #3B4455;\n",
              "      fill: #D2E3FC;\n",
              "    }\n",
              "\n",
              "    [theme=dark] .colab-df-convert:hover {\n",
              "      background-color: #434B5C;\n",
              "      box-shadow: 0px 1px 3px 1px rgba(0, 0, 0, 0.15);\n",
              "      filter: drop-shadow(0px 1px 2px rgba(0, 0, 0, 0.3));\n",
              "      fill: #FFFFFF;\n",
              "    }\n",
              "  </style>\n",
              "\n",
              "      <script>\n",
              "        const buttonEl =\n",
              "          document.querySelector('#df-169c0ef1-2858-4505-9b53-7a245b9774fb button.colab-df-convert');\n",
              "        buttonEl.style.display =\n",
              "          google.colab.kernel.accessAllowed ? 'block' : 'none';\n",
              "\n",
              "        async function convertToInteractive(key) {\n",
              "          const element = document.querySelector('#df-169c0ef1-2858-4505-9b53-7a245b9774fb');\n",
              "          const dataTable =\n",
              "            await google.colab.kernel.invokeFunction('convertToInteractive',\n",
              "                                                     [key], {});\n",
              "          if (!dataTable) return;\n",
              "\n",
              "          const docLinkHtml = 'Like what you see? Visit the ' +\n",
              "            '<a target=\"_blank\" href=https://colab.research.google.com/notebooks/data_table.ipynb>data table notebook</a>'\n",
              "            + ' to learn more about interactive tables.';\n",
              "          element.innerHTML = '';\n",
              "          dataTable['output_type'] = 'display_data';\n",
              "          await google.colab.output.renderOutput(dataTable, element);\n",
              "          const docLink = document.createElement('div');\n",
              "          docLink.innerHTML = docLinkHtml;\n",
              "          element.appendChild(docLink);\n",
              "        }\n",
              "      </script>\n",
              "    </div>\n",
              "  </div>\n",
              "  "
            ]
          },
          "metadata": {},
          "execution_count": 6
        }
      ]
    },
    {
      "cell_type": "code",
      "source": [
        "# calculate word count of each sentence\n",
        "train_data['word_counter'] = train_data['text'].apply(lambda x:len(str(x).split())) "
      ],
      "metadata": {
        "id": "9VZ9BByGRy1k"
      },
      "execution_count": null,
      "outputs": []
    },
    {
      "cell_type": "code",
      "source": [
        "print('Info about training data:')\n",
        "print(train_data['corr'].value_counts())\n",
        "print('Total comments: ', len(train_data))\n",
        "\n",
        "max_train_sentence_length  = train_data['word_counter'].max()"
      ],
      "metadata": {
        "colab": {
          "base_uri": "https://localhost:8080/"
        },
        "id": "eGwgFjMtR3-a",
        "outputId": "6f034a37-8b2b-4a75-8962-a52d3d478033"
      },
      "execution_count": null,
      "outputs": [
        {
          "output_type": "stream",
          "name": "stdout",
          "text": [
            "Info about training data:\n",
            "1    19824\n",
            "0    18981\n",
            "Name: corr, dtype: int64\n",
            "Total comments:  38805\n"
          ]
        }
      ]
    },
    {
      "cell_type": "code",
      "source": [
        "num_words = 250000\n",
        "\n",
        "# convert texts to number format - for tensorflow.\n",
        "\n",
        "tokenizer = Tokenizer(num_words=num_words,oov_token=\"unk\")\n",
        "tokenizer.fit_on_texts(train_data['text'].values.astype(str).tolist())\n",
        "\n",
        "print(str(tokenizer.texts_to_sequences(['this is a test'])))"
      ],
      "metadata": {
        "colab": {
          "base_uri": "https://localhost:8080/"
        },
        "id": "jMnJxOSDSc1G",
        "outputId": "e084e6d1-6c20-4cf9-d5ff-980c19aaa93c"
      },
      "execution_count": null,
      "outputs": [
        {
          "output_type": "stream",
          "name": "stdout",
          "text": [
            "[[11, 23077, 23077, 710]]\n"
          ]
        }
      ]
    },
    {
      "cell_type": "code",
      "source": [
        "# splitting train and test data\n",
        "X_train, X_test, y_train, y_test = train_test_split(train_data['text'],\\\n",
        "                                                      train_data['corr'],\\\n",
        "                                                      test_size=0.3,\\\n",
        "                                                      random_state=0)"
      ],
      "metadata": {
        "id": "1vJa3QK8Sn_n"
      },
      "execution_count": null,
      "outputs": []
    },
    {
      "cell_type": "code",
      "source": [
        "# text-to-number\n",
        "x_train = np.array( tokenizer.texts_to_sequences(X_train.values.astype(str)) )\n",
        "x_test  = np.array( tokenizer.texts_to_sequences(X_test.values.astype(str)) )"
      ],
      "metadata": {
        "colab": {
          "base_uri": "https://localhost:8080/"
        },
        "id": "w12l1oC-StUA",
        "outputId": "ca1222be-b82b-4ba1-f990-3c2e52d293d5"
      },
      "execution_count": null,
      "outputs": [
        {
          "output_type": "stream",
          "name": "stderr",
          "text": [
            "<ipython-input-11-52717cdf9361>:2: VisibleDeprecationWarning: Creating an ndarray from ragged nested sequences (which is a list-or-tuple of lists-or-tuples-or ndarrays with different lengths or shapes) is deprecated. If you meant to do this, you must specify 'dtype=object' when creating the ndarray.\n",
            "  x_train = np.array( tokenizer.texts_to_sequences(X_train.values.astype(str)) )\n",
            "<ipython-input-11-52717cdf9361>:3: VisibleDeprecationWarning: Creating an ndarray from ragged nested sequences (which is a list-or-tuple of lists-or-tuples-or ndarrays with different lengths or shapes) is deprecated. If you meant to do this, you must specify 'dtype=object' when creating the ndarray.\n",
            "  x_test  = np.array( tokenizer.texts_to_sequences(X_test.values.astype(str)) )\n"
          ]
        }
      ]
    },
    {
      "cell_type": "code",
      "source": [
        "# we get different length sentences after tokenizer.\n",
        "# we need fixed size vectors. so padding is applied.\n",
        "# max length of a sentence was given above. it was 3263.\n",
        "# here we are taking maxlen=256 and applying padding (256 selected for computational cost)\n",
        "x_train = pad_sequences(x_train, padding='post', maxlen=256)\n",
        "x_test = pad_sequences(x_test, padding='post', maxlen=256)"
      ],
      "metadata": {
        "id": "ZuaJVRhcSvgp"
      },
      "execution_count": null,
      "outputs": []
    },
    {
      "cell_type": "code",
      "source": [
        "# label encoding: 'positive', 'negative' and 'neutral' is converted to number format.\n",
        "le = LabelEncoder()\n",
        "\n",
        "train_labels = le.fit_transform(y_train)\n",
        "train_labels = np.asarray( tf.keras.utils.to_categorical(train_labels))\n",
        "\n",
        "test_labels = le.transform(y_test)\n",
        "test_labels = np.asarray(tf.keras.utils.to_categorical(test_labels))\n",
        "list(le.classes_)"
      ],
      "metadata": {
        "colab": {
          "base_uri": "https://localhost:8080/"
        },
        "id": "3UP6rcZRSxwW",
        "outputId": "9ca61f43-2ed0-4fd6-9e97-9bffc7dff708"
      },
      "execution_count": null,
      "outputs": [
        {
          "output_type": "execute_result",
          "data": {
            "text/plain": [
              "[0, 1]"
            ]
          },
          "metadata": {},
          "execution_count": 13
        }
      ]
    },
    {
      "cell_type": "code",
      "source": [
        "# Details for label encoding process\n",
        "print(y_train[:10])\n",
        "train_labels = le.fit_transform(y_train)\n",
        "print('Text to number')\n",
        "print(train_labels[:10])\n",
        "train_labels = np.asarray( tf.keras.utils.to_categorical(train_labels))\n",
        "print('Number to category')\n",
        "print(train_labels[:10])"
      ],
      "metadata": {
        "colab": {
          "base_uri": "https://localhost:8080/"
        },
        "id": "CxyyrFYzS2_N",
        "outputId": "c8424dd8-c4ab-474c-af0f-d00ece3e2d1a"
      },
      "execution_count": null,
      "outputs": [
        {
          "output_type": "stream",
          "name": "stdout",
          "text": [
            "2894     1\n",
            "36529    0\n",
            "22543    0\n",
            "4659     1\n",
            "13624    1\n",
            "4738     1\n",
            "7        1\n",
            "4296     1\n",
            "24283    0\n",
            "28095    0\n",
            "Name: corr, dtype: int64\n",
            "Text to number\n",
            "[1 0 0 1 1 1 1 1 0 0]\n",
            "Number to category\n",
            "[[0. 1.]\n",
            " [1. 0.]\n",
            " [1. 0.]\n",
            " [0. 1.]\n",
            " [0. 1.]\n",
            " [0. 1.]\n",
            " [0. 1.]\n",
            " [0. 1.]\n",
            " [1. 0.]\n",
            " [1. 0.]]\n"
          ]
        }
      ]
    },
    {
      "cell_type": "code",
      "source": [
        "# looking for top 30k comments\n",
        "max_features = 250000\n",
        "\n",
        "#every index is represented by 64 dimensional vector\n",
        "embedding_dim =64\n",
        "\n",
        "#each input has 256 dimension\n",
        "sequence_length = 256\n",
        "\n",
        "model = tf.keras.Sequential()\n",
        "\n",
        "# first layer is embedding layer.\n",
        "model.add(tf.keras.layers.Embedding(max_features, embedding_dim, input_length=sequence_length,\\\n",
        "                                   embeddings_regularizer = regularizers.l2(0.0005)))     \n",
        "\n",
        "#model.add(tf.keras.layers.LSTM(64, dropout=0.1, return_sequences=True))\n",
        "#model.add(tf.keras.layers.Dense(3))\n",
        "\n",
        "#model.add(tf.keras.layers.Dropout(0.4))\n",
        "\n",
        "model.add(tf.keras.layers.LSTM(embedding_dim,dropout=0.2, recurrent_dropout=0.2,return_sequences=True,\\\n",
        "                                                            kernel_regularizer=regularizers.l2(0.005),\\\n",
        "                                                            bias_regularizer=regularizers.l2(0.005)))\n",
        "\n",
        "model.add(tf.keras.layers.Flatten())\n",
        "\n",
        "model.add(tf.keras.layers.Dense(512, activation='relu',\\\n",
        "                                kernel_regularizer=regularizers.l2(0.001),\\\n",
        "                                bias_regularizer=regularizers.l2(0.001),))\n",
        "model.add(tf.keras.layers.Dropout(0.4))\n",
        "\n",
        "model.add(tf.keras.layers.Dense(8, activation='relu',\\\n",
        "                                kernel_regularizer=regularizers.l2(0.001),\\\n",
        "                                bias_regularizer=regularizers.l2(0.001),))\n",
        "model.add(tf.keras.layers.Dropout(0.4))\n",
        "\n",
        "\n",
        "model.add(tf.keras.layers.Dense(2,activation='softmax',\\\n",
        "                                kernel_regularizer=regularizers.l2(0.001),\\\n",
        "                                bias_regularizer=regularizers.l2(0.001)))\n",
        "\n",
        "model.summary()\n",
        "model.compile(loss=tf.keras.losses.CategoricalCrossentropy(),optimizer=tf.keras.optimizers.Adam(1e-3),metrics=[\"CategoricalAccuracy\", AUC(name='auc')])"
      ],
      "metadata": {
        "colab": {
          "base_uri": "https://localhost:8080/"
        },
        "id": "vUGd2wvYS742",
        "outputId": "e7271b59-6b40-4111-cac5-c67eef6abd7b"
      },
      "execution_count": null,
      "outputs": [
        {
          "output_type": "stream",
          "name": "stderr",
          "text": [
            "WARNING:tensorflow:Layer lstm will not use cuDNN kernels since it doesn't meet the criteria. It will use a generic GPU kernel as fallback when running on GPU.\n"
          ]
        },
        {
          "output_type": "stream",
          "name": "stdout",
          "text": [
            "Model: \"sequential\"\n",
            "_________________________________________________________________\n",
            " Layer (type)                Output Shape              Param #   \n",
            "=================================================================\n",
            " embedding (Embedding)       (None, 256, 64)           16000000  \n",
            "                                                                 \n",
            " lstm (LSTM)                 (None, 256, 64)           33024     \n",
            "                                                                 \n",
            " flatten (Flatten)           (None, 16384)             0         \n",
            "                                                                 \n",
            " dense (Dense)               (None, 512)               8389120   \n",
            "                                                                 \n",
            " dropout (Dropout)           (None, 512)               0         \n",
            "                                                                 \n",
            " dense_1 (Dense)             (None, 8)                 4104      \n",
            "                                                                 \n",
            " dropout_1 (Dropout)         (None, 8)                 0         \n",
            "                                                                 \n",
            " dense_2 (Dense)             (None, 2)                 18        \n",
            "                                                                 \n",
            "=================================================================\n",
            "Total params: 24,426,266\n",
            "Trainable params: 24,426,266\n",
            "Non-trainable params: 0\n",
            "_________________________________________________________________\n"
          ]
        }
      ]
    },
    {
      "cell_type": "code",
      "source": [
        "x_test.shape"
      ],
      "metadata": {
        "colab": {
          "base_uri": "https://localhost:8080/"
        },
        "id": "7wQwnMQmTBuk",
        "outputId": "8725c2f0-9abf-4d76-9622-23f3d7451b3c"
      },
      "execution_count": null,
      "outputs": [
        {
          "output_type": "execute_result",
          "data": {
            "text/plain": [
              "(11642, 256)"
            ]
          },
          "metadata": {},
          "execution_count": 16
        }
      ]
    },
    {
      "cell_type": "code",
      "source": [
        "test_labels.shape"
      ],
      "metadata": {
        "colab": {
          "base_uri": "https://localhost:8080/"
        },
        "id": "15IPrhV2TFES",
        "outputId": "ff278c75-2e93-4f9b-8820-14f211529e44"
      },
      "execution_count": null,
      "outputs": [
        {
          "output_type": "execute_result",
          "data": {
            "text/plain": [
              "(11642, 2)"
            ]
          },
          "metadata": {},
          "execution_count": 17
        }
      ]
    },
    {
      "cell_type": "code",
      "source": [
        "# Training model\n",
        "from tensorflow.keras.callbacks import EarlyStopping\n",
        "callbacks = [EarlyStopping(monitor='val_loss', patience=3)]\n",
        "\n",
        "epochs = 10\n",
        "# Fit the model using the train and test datasets.\n",
        "#history = model.fit(x_train, train_labels,validation_data= (x_test,test_labels),epochs=epochs )\n",
        "history = model.fit(x_train,\n",
        "                    train_labels,\n",
        "                    epochs= epochs,\n",
        "                    validation_data=(x_test, test_labels),\n",
        "                    verbose=1)"
      ],
      "metadata": {
        "colab": {
          "base_uri": "https://localhost:8080/"
        },
        "id": "6WLb5TklTITK",
        "outputId": "126bae41-8b31-4681-e805-03641e388f90"
      },
      "execution_count": null,
      "outputs": [
        {
          "output_type": "stream",
          "name": "stdout",
          "text": [
            "Epoch 1/10\n",
            "849/849 [==============================] - 889s 1s/step - loss: 0.8104 - categorical_accuracy: 0.8338 - auc: 0.9263 - val_loss: 0.4431 - val_categorical_accuracy: 0.9454 - val_auc: 0.9892\n",
            "Epoch 2/10\n",
            "849/849 [==============================] - 851s 1s/step - loss: 0.3667 - categorical_accuracy: 0.9442 - auc: 0.9838 - val_loss: 0.2956 - val_categorical_accuracy: 0.9437 - val_auc: 0.9895\n",
            "Epoch 3/10\n",
            "849/849 [==============================] - 847s 998ms/step - loss: 0.2948 - categorical_accuracy: 0.9465 - auc: 0.9873 - val_loss: 0.2474 - val_categorical_accuracy: 0.9481 - val_auc: 0.9906\n",
            "Epoch 4/10\n",
            "849/849 [==============================] - 839s 988ms/step - loss: 0.2619 - categorical_accuracy: 0.9490 - auc: 0.9886 - val_loss: 0.2739 - val_categorical_accuracy: 0.9426 - val_auc: 0.9895\n",
            "Epoch 5/10\n",
            "849/849 [==============================] - 837s 986ms/step - loss: 0.2475 - categorical_accuracy: 0.9510 - auc: 0.9896 - val_loss: 0.2596 - val_categorical_accuracy: 0.9411 - val_auc: 0.9892\n",
            "Epoch 6/10\n",
            "849/849 [==============================] - 841s 991ms/step - loss: 0.2284 - categorical_accuracy: 0.9545 - auc: 0.9912 - val_loss: 0.2830 - val_categorical_accuracy: 0.9456 - val_auc: 0.9886\n",
            "Epoch 7/10\n",
            "849/849 [==============================] - 834s 982ms/step - loss: 0.2102 - categorical_accuracy: 0.9619 - auc: 0.9922 - val_loss: 0.2556 - val_categorical_accuracy: 0.9467 - val_auc: 0.9857\n",
            "Epoch 8/10\n",
            "849/849 [==============================] - 836s 984ms/step - loss: 0.2097 - categorical_accuracy: 0.9626 - auc: 0.9927 - val_loss: 0.2654 - val_categorical_accuracy: 0.9412 - val_auc: 0.9849\n",
            "Epoch 9/10\n",
            "849/849 [==============================] - 836s 985ms/step - loss: 0.1994 - categorical_accuracy: 0.9648 - auc: 0.9930 - val_loss: 0.2453 - val_categorical_accuracy: 0.9486 - val_auc: 0.9884\n",
            "Epoch 10/10\n",
            "849/849 [==============================] - 831s 979ms/step - loss: 0.2007 - categorical_accuracy: 0.9667 - auc: 0.9932 - val_loss: 0.2737 - val_categorical_accuracy: 0.9464 - val_auc: 0.9860\n"
          ]
        }
      ]
    },
    {
      "cell_type": "code",
      "source": [
        "plt.plot(history.history['loss'], label=' training data')\n",
        "plt.plot(history.history['val_loss'], label='validation data)')\n",
        "plt.title('Loss for Text Classification')\n",
        "plt.ylabel('Loss value')\n",
        "plt.xlabel('No. epoch')\n",
        "plt.legend(loc=\"upper left\")\n",
        "plt.show()"
      ],
      "metadata": {
        "colab": {
          "base_uri": "https://localhost:8080/",
          "height": 295
        },
        "id": "-m2ulp15TNAx",
        "outputId": "9fa0c204-f639-4216-eb7d-81f9b5086bd0"
      },
      "execution_count": null,
      "outputs": [
        {
          "output_type": "display_data",
          "data": {
            "text/plain": [
              "<Figure size 432x288 with 1 Axes>"
            ],
            "image/png": "[encoded data removed]"
          },
          "metadata": {
            "needs_background": "light"
          }
        }
      ]
    },
    {
      "cell_type": "code",
      "source": [
        "plt.plot(history.history['auc'], label=' Training AUC')\n",
        "plt.plot(history.history['val_auc'], label='Validation AUC)')\n",
        "plt.title('AUC Evaluation')\n",
        "plt.ylabel('AUC')\n",
        "plt.xlabel('No. epoch')\n",
        "plt.legend(loc=\"upper left\")\n",
        "plt.show()"
      ],
      "metadata": {
        "colab": {
          "base_uri": "https://localhost:8080/",
          "height": 295
        },
        "id": "NRpMIPKWTNt7",
        "outputId": "300536dd-e64d-4c96-e314-667a9db6699a"
      },
      "execution_count": null,
      "outputs": [
        {
          "output_type": "display_data",
          "data": {
            "text/plain": [
              "<Figure size 432x288 with 1 Axes>"
            ],
            "image/png": "[encoded data removed]"
          },
          "metadata": {
            "needs_background": "light"
          }
        }
      ]
    },
    {
      "cell_type": "code",
      "source": [
        "X_test"
      ],
      "metadata": {
        "colab": {
          "base_uri": "https://localhost:8080/"
        },
        "id": "Q5QbeKF7TWM3",
        "outputId": "7ef3d20b-c6d2-4f7e-f700-eb3a388b26fe"
      },
      "execution_count": null,
      "outputs": [
        {
          "output_type": "execute_result",
          "data": {
            "text/plain": [
              "20818    why would the governor florida kansas city foo...\n",
              "7919     globalwarming the global water monitor consort...\n",
              "10999    noses are vivid violet water lilies are blue s...\n",
              "27239             nasdaq about days bears better wake soon\n",
              "30173                                    football specific\n",
              "                               ...                        \n",
              "22062                   fifa realistic career mode everton\n",
              "6368     flash gordon from got for this wonderful examp...\n",
              "4379     atheists quote reply this tweet with your best...\n",
              "34052                          chelsea has ruined football\n",
              "11004    free tarot deck reviews the suits the good tar...\n",
              "Name: text, Length: 11642, dtype: object"
            ]
          },
          "metadata": {},
          "execution_count": 21
        }
      ]
    },
    {
      "cell_type": "code",
      "source": [
        "x_test2  = np.array( tokenizer.texts_to_sequences(X_test.astype(str).tolist()) )\n",
        "x_test2 = pad_sequences(x_test2, padding='post', maxlen=256)"
      ],
      "metadata": {
        "colab": {
          "base_uri": "https://localhost:8080/"
        },
        "id": "7ubUCY_PTYjW",
        "outputId": "ec733361-c0d8-4db8-b2f7-4411d04c6a76"
      },
      "execution_count": null,
      "outputs": [
        {
          "output_type": "stream",
          "name": "stderr",
          "text": [
            "<ipython-input-22-1bce84296b7e>:1: VisibleDeprecationWarning: Creating an ndarray from ragged nested sequences (which is a list-or-tuple of lists-or-tuples-or ndarrays with different lengths or shapes) is deprecated. If you meant to do this, you must specify 'dtype=object' when creating the ndarray.\n",
            "  x_test2  = np.array( tokenizer.texts_to_sequences(X_test.astype(str).tolist()) )\n"
          ]
        }
      ]
    },
    {
      "cell_type": "code",
      "source": [
        "# Generate predictions (probabilities -- the output of the last layer)\n",
        "# on test  data using `predict`\n",
        "print(\"Generate predictions for all samples\")\n",
        "y_predictions = model.predict(x_test2)\n",
        "y_pred = y_predictions.argmax(axis=1)\n",
        "y_pred"
      ],
      "metadata": {
        "colab": {
          "base_uri": "https://localhost:8080/"
        },
        "id": "wnF7SkANTZCL",
        "outputId": "f7230177-51a1-49ac-898d-575d0e401218"
      },
      "execution_count": null,
      "outputs": [
        {
          "output_type": "stream",
          "name": "stdout",
          "text": [
            "Generate predictions for all samples\n",
            "364/364 [==============================] - 24s 65ms/step\n"
          ]
        },
        {
          "output_type": "execute_result",
          "data": {
            "text/plain": [
              "array([0, 1, 1, ..., 0, 0, 1])"
            ]
          },
          "metadata": {},
          "execution_count": 23
        }
      ]
    },
    {
      "cell_type": "code",
      "source": [
        "y_test.shape\n",
        "y_test"
      ],
      "metadata": {
        "colab": {
          "base_uri": "https://localhost:8080/",
          "height": 182
        },
        "id": "heUnvZ5cTbnY",
        "outputId": "0e85a757-3804-4e56-c145-996f22187042"
      },
      "execution_count": null,
      "outputs": [
        {
          "output_type": "error",
          "ename": "NameError",
          "evalue": "ignored",
          "traceback": [
            "\u001b[0;31m---------------------------------------------------------------------------\u001b[0m",
            "\u001b[0;31mNameError\u001b[0m                                 Traceback (most recent call last)",
            "\u001b[0;32m<ipython-input-1-9bbc5a208e2c>\u001b[0m in \u001b[0;36m<module>\u001b[0;34m\u001b[0m\n\u001b[0;32m----> 1\u001b[0;31m \u001b[0my_test\u001b[0m\u001b[0;34m.\u001b[0m\u001b[0mshape\u001b[0m\u001b[0;34m\u001b[0m\u001b[0;34m\u001b[0m\u001b[0m\n\u001b[0m\u001b[1;32m      2\u001b[0m \u001b[0my_test\u001b[0m\u001b[0;34m\u001b[0m\u001b[0;34m\u001b[0m\u001b[0m\n",
            "\u001b[0;31mNameError\u001b[0m: name 'y_test' is not defined"
          ]
        }
      ]
    },
    {
      "cell_type": "code",
      "source": [
        "labels = [0, 1]\n",
        "#labels = labels.values.astype(int).astype(str)\n",
        "print(classification_report(y_test, y_pred, labels=labels))"
      ],
      "metadata": {
        "colab": {
          "base_uri": "https://localhost:8080/"
        },
        "id": "LyVJhNCCqmy_",
        "outputId": "6fa7e6af-ced4-4ffe-e0dc-542cf9296b68"
      },
      "execution_count": null,
      "outputs": [
        {
          "output_type": "stream",
          "name": "stdout",
          "text": [
            "              precision    recall  f1-score   support\n",
            "\n",
            "           0       0.94      0.95      0.95      5733\n",
            "           1       0.95      0.94      0.95      5909\n",
            "\n",
            "    accuracy                           0.95     11642\n",
            "   macro avg       0.95      0.95      0.95     11642\n",
            "weighted avg       0.95      0.95      0.95     11642\n",
            "\n"
          ]
        }
      ]
    }
  ]
}
